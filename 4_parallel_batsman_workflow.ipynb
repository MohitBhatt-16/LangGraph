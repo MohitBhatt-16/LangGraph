{
 "cells": [
  {
   "cell_type": "code",
   "execution_count": 1,
   "id": "06200117",
   "metadata": {},
   "outputs": [
    {
     "data": {
      "text/plain": [
       "True"
      ]
     },
     "execution_count": 1,
     "metadata": {},
     "output_type": "execute_result"
    }
   ],
   "source": [
    "from langgraph.graph import StateGraph, START, END\n",
    "from typing import TypedDict\n",
    "from langchain_groq import ChatGroq\n",
    "from dotenv import load_dotenv\n",
    "import os\n",
    "load_dotenv()"
   ]
  },
  {
   "cell_type": "code",
   "execution_count": 9,
   "id": "4ec2adf2",
   "metadata": {},
   "outputs": [],
   "source": [
    "class BatsmanState(TypedDict):\n",
    "    runs : int\n",
    "    balls : int \n",
    "    fours : int\n",
    "    sixes : int\n",
    "\n",
    "    strike_rate : float\n",
    "    balls_per_boundary : float\n",
    "    boundary_percent : float\n",
    "    summary : str\n"
   ]
  },
  {
   "cell_type": "markdown",
   "id": "7c3e341c",
   "metadata": {},
   "source": [
    "During parallel workflows we need to return partial state ie in the form dictionary instead of complete state else it will return error as the value that are not updated langgraph will think that all state values are updated and can not decide which value to consider final so pass only updated values (partial state)"
   ]
  },
  {
   "cell_type": "code",
   "execution_count": 17,
   "id": "edeb2192",
   "metadata": {},
   "outputs": [],
   "source": [
    "def calculate_strike_rate(state : BatsmanState):\n",
    "    sr = (state['runs'] / state['balls'])*100\n",
    "    return {'strike_rate' : sr}\n",
    "\n",
    "def calculate_balls_per_boundary(state : BatsmanState):\n",
    "    bpb = state['balls'] / (state['fours'] + state['sixes'])\n",
    "    return {'balls_per_boundary' : bpb}\n",
    "    \n",
    "def calculate_boundary_percent(state : BatsmanState):\n",
    "    bp = (((state['fours'] * 4 ) + (state['sixes'] * 6)) / state['runs'])*100\n",
    "    return {'boundary_percent' : bp}\n",
    "    \n",
    "\n",
    "def summary(state: BatsmanState):\n",
    "    summary = f\"\"\"\n",
    "        Strike Rate - {state['strike_rate']} \\n\n",
    "        Balls per Boundary - {state['balls_per_boundary']} \\n\n",
    "        Boundary Percent - {state['boundary_percent']} \\n\n",
    "    \"\"\"\n",
    "    state['summary'] = summary\n",
    "    return state\n"
   ]
  },
  {
   "cell_type": "code",
   "execution_count": 18,
   "id": "94a67aec",
   "metadata": {},
   "outputs": [
    {
     "data": {
      "image/png": "[encoded data removed]",
      "text/plain": [
       "<langgraph.graph.state.CompiledStateGraph object at 0x0000024402E328A0>"
      ]
     },
     "execution_count": 18,
     "metadata": {},
     "output_type": "execute_result"
    }
   ],
   "source": [
    "graph = StateGraph(BatsmanState)\n",
    "\n",
    "graph.add_node('calculate_strike_rate', calculate_strike_rate)\n",
    "graph.add_node('calculate_balls_per_boundary', calculate_balls_per_boundary)\n",
    "graph.add_node('calculate_boundary_percent', calculate_boundary_percent)\n",
    "graph.add_node('summary', summary)\n",
    "\n",
    "graph.add_edge(START, \"calculate_strike_rate\")\n",
    "graph.add_edge(START, \"calculate_balls_per_boundary\")\n",
    "graph.add_edge(START, \"calculate_boundary_percent\")\n",
    "\n",
    "graph.add_edge(\"calculate_strike_rate\", \"summary\")\n",
    "graph.add_edge(\"calculate_balls_per_boundary\", \"summary\")\n",
    "graph.add_edge(\"calculate_boundary_percent\", \"summary\")\n",
    "\n",
    "graph.add_edge(\"summary\" , END)\n",
    "\n",
    "workflow = graph.compile()\n",
    "workflow"
   ]
  },
  {
   "cell_type": "code",
   "execution_count": 19,
   "id": "b6288b3e",
   "metadata": {},
   "outputs": [],
   "source": [
    "initial_state = {\n",
    "    'runs': 100,\n",
    "    'balls' : 50,\n",
    "    'fours' : 6,\n",
    "    'sixes' : 4\n",
    "}\n",
    "\n",
    "final_state = workflow.invoke(initial_state)\n"
   ]
  },
  {
   "cell_type": "code",
   "execution_count": 20,
   "id": "3db773fb",
   "metadata": {},
   "outputs": [
    {
     "name": "stdout",
     "output_type": "stream",
     "text": [
      "\n",
      "        Strike Rate - 200.0 \n",
      "\n",
      "        Balls per Boundary - 5.0 \n",
      "\n",
      "        Boundary Percent - 48.0 \n",
      "\n",
      "    \n"
     ]
    }
   ],
   "source": [
    "print(final_state['summary'])"
   ]
  },
  {
   "cell_type": "code",
   "execution_count": null,
   "id": "6922a84f",
   "metadata": {},
   "outputs": [],
   "source": []
  }
 ],
 "metadata": {
  "kernelspec": {
   "display_name": "myenv",
   "language": "python",
   "name": "python3"
  },
  "language_info": {
   "codemirror_mode": {
    "name": "ipython",
    "version": 3
   },
   "file_extension": ".py",
   "mimetype": "text/x-python",
   "name": "python",
   "nbconvert_exporter": "python",
   "pygments_lexer": "ipython3",
   "version": "3.12.6"
  }
 },
 "nbformat": 4,
 "nbformat_minor": 5
}
