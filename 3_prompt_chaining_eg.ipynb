{
 "cells": [
  {
   "cell_type": "code",
   "execution_count": 2,
   "id": "5160d821",
   "metadata": {},
   "outputs": [
    {
     "data": {
      "text/plain": [
       "True"
      ]
     },
     "execution_count": 2,
     "metadata": {},
     "output_type": "execute_result"
    }
   ],
   "source": [
    "from langgraph.graph import StateGraph, START, END\n",
    "from typing import TypedDict\n",
    "from langchain_groq import ChatGroq\n",
    "from dotenv import load_dotenv\n",
    "import os\n",
    "load_dotenv()\n"
   ]
  },
  {
   "cell_type": "code",
   "execution_count": 3,
   "metadata": {},
   "outputs": [],
   "source": [
    "\n",
    "model = ChatGroq(\n",
    "    model=\"llama3-8b-8192\",  # ✅ REQUIRED\n",
    "    temperature=0.7\n",
    ")\n"
   ]
  },
  {
   "cell_type": "code",
   "execution_count": 4,
   "id": "737ee8b7",
   "metadata": {},
   "outputs": [],
   "source": [
    "# Define the State\n",
    "class BlogState(TypedDict):\n",
    "    title : str\n",
    "    outline : str\n",
    "    content : str"
   ]
  },
  {
   "cell_type": "code",
   "execution_count": 8,
   "id": "e7f3513d",
   "metadata": {},
   "outputs": [],
   "source": [
    "def create_outline(state : BlogState) -> BlogState:\n",
    "    title = state['title']\n",
    "    prompt = f'Generate a detailed outline for a blog on the topic {title}'\n",
    "    outline = model.invoke(prompt).content\n",
    "    state['outline'] = outline\n",
    "    return state\n",
    "\n",
    "def generate_content(state : BlogState) -> BlogState:\n",
    "    title = state['title']\n",
    "    outline = state['outline']\n",
    "    prompt = f'Write a detaild blog on the title {title} Based on the following outline \\n {outline}.'\n",
    "    content = model.invoke(prompt).content\n",
    "    state['content'] = content\n",
    "    return state\n",
    "\n"
   ]
  },
  {
   "cell_type": "code",
   "execution_count": 9,
   "id": "4ced808e",
   "metadata": {},
   "outputs": [
    {
     "data": {
      "image/png": "[encoded data removed]",
      "text/plain": [
       "<langgraph.graph.state.CompiledStateGraph object at 0x000001D2341467E0>"
      ]
     },
     "execution_count": 9,
     "metadata": {},
     "output_type": "execute_result"
    }
   ],
   "source": [
    "graph = StateGraph(BlogState)\n",
    "\n",
    "graph.add_node('create_outline',create_outline)\n",
    "graph.add_node('generate_content', generate_content)\n",
    "\n",
    "# Add edges\n",
    "graph.add_edge(START, 'create_outline')\n",
    "graph.add_edge('create_outline','generate_content')\n",
    "graph.add_edge('generate_content',END)\n",
    "\n",
    "# \n",
    "workflow = graph.compile()\n",
    "workflow"
   ]
  },
  {
   "cell_type": "code",
   "execution_count": 11,
   "id": "2fe4be21",
   "metadata": {},
   "outputs": [
    {
     "name": "stdout",
     "output_type": "stream",
     "text": [
      "Here is a detailed outline for a blog on the topic \"Earth Resources vs Population\":\n",
      "\n",
      "**I. Introduction**\n",
      "\n",
      "* Brief overview of the importance of the topic\n",
      "* Thesis statement: The growing global population is putting a strain on the Earth's resources, and it's essential to understand the impact and find sustainable solutions.\n",
      "\n",
      "**II. The State of the Earth's Resources**\n",
      "\n",
      "* Overview of the Earth's natural resources, including:\n",
      "\t+ Water\n",
      "\t+ Food\n",
      "\t+ Energy (fossil fuels, renewable energy sources)\n",
      "\t+ Land\n",
      "\t+ Minerals\n",
      "* Statistics and facts highlighting the depletion and degradation of these resources\n",
      "\n",
      "**III. The Impact of Population Growth on Earth's Resources**\n",
      "\n",
      "* Discussion of how population growth is affecting the availability of Earth's resources, including:\n",
      "\t+ Water scarcity and competition for access\n",
      "\t+ Food insecurity and the need for increased agricultural production\n",
      "\t+ Energy shortages and the reliance on fossil fuels\n",
      "\t+ Land degradation and deforestation\n",
      "\t+ Increased demand for minerals and other natural resources\n",
      "* Examples of how population growth is exacerbating environmental issues, such as:\n",
      "\t+ Climate change\n",
      "\t+ Biodiversity loss\n",
      "\t+ Natural disasters\n",
      "\n",
      "**IV. The Consequences of Inaction**\n",
      "\n",
      "* Discussion of the potential consequences of not addressing the imbalance between population growth and Earth's resources, including:\n",
      "\t+ Increased poverty and inequality\n",
      "\t+ Social unrest and conflict\n",
      "\t+ Environmental degradation and ecosystem collapse\n",
      "\t+ Economic instability and market fluctuations\n",
      "\n",
      "**V. Sustainable Solutions**\n",
      "\n",
      "* Discussion of potential solutions to address the imbalance, including:\n",
      "\t+ Family planning and reproductive health services\n",
      "\t+ Sustainable agriculture and food production\n",
      "\t+ Renewable energy sources and energy efficiency\n",
      "\t+ Conservation and sustainable management of natural resources\n",
      "\t+ Waste reduction and recycling\n",
      "* Examples of successful initiatives and programs that are addressing the issue, such as:\n",
      "\t+ UN Sustainable Development Goals (SDGs)\n",
      "\t+ National and international conservation efforts\n",
      "\t+ Community-based initiatives for sustainable development\n",
      "\n",
      "**VI. Conclusion**\n",
      "\n",
      "* Recap of the importance of addressing the imbalance between population growth and Earth's resources\n",
      "* Call to action for individuals, governments, and organizations to work together to find sustainable solutions\n",
      "* Final thoughts and recommendations for further research and action\n",
      "\n",
      "**VII. References**\n",
      "\n",
      "* List of sources cited in the blog post\n",
      "\n",
      "This outline provides a comprehensive framework for exploring the topic of Earth resources vs population. The section on sustainable solutions highlights potential solutions and initiatives that can help address the imbalance, while the conclusion emphasizes the importance of collective action to find sustainable solutions.\n"
     ]
    }
   ],
   "source": [
    "intial_state = {'title' : 'Earth Resources vs Population'}\n",
    "final_state = workflow.invoke(intial_state)\n",
    "print(final_state['outline'])"
   ]
  },
  {
   "cell_type": "code",
   "execution_count": 12,
   "id": "2c0b6839",
   "metadata": {},
   "outputs": [
    {
     "name": "stdout",
     "output_type": "stream",
     "text": [
      "**Earth Resources vs Population: A Growing Concern for a Sustainable Future**\n",
      "\n",
      "The world is facing a critical challenge: an ever-growing population is putting a strain on the Earth's resources, threatening the very foundation of our existence. The increasing demand for natural resources, such as water, food, energy, land, and minerals, is outpacing the planet's ability to replenish them, leading to depletion, degradation, and environmental disasters. In this blog, we will delve into the state of the Earth's resources, the impact of population growth on these resources, the consequences of inaction, and potential sustainable solutions to address this pressing issue.\n",
      "\n",
      "**The State of the Earth's Resources**\n",
      "\n",
      "The Earth's natural resources are finite and non-renewable. Water, the most essential resource, is being depleted at an alarming rate. According to the World Wildlife Fund (WWF), nearly 2 billion people live in water-scarce areas, and by 2025, half of the world's population will be living in water-stressed conditions. Food production is also under threat, with the Food and Agriculture Organization (FAO) estimating that the global population will need to produce 70% more food by 2050 to meet demand.\n",
      "\n",
      "Energy resources are also being strained, with fossil fuels being depleted at an unprecedented rate. The International Energy Agency (IEA) predicts that the world will require 30% more energy by 2040 to meet growing demand. Land degradation and deforestation are also major concerns, with the United Nations (UN) reporting that 25% of the world's agricultural land is degraded, leading to soil erosion, loss of biodiversity, and decreased crop yields.\n",
      "\n",
      "**The Impact of Population Growth on Earth's Resources**\n",
      "\n",
      "The growing global population is exacerbating the depletion of natural resources. Water scarcity and competition for access are increasing, leading to conflicts over this essential resource. Food insecurity is on the rise, with the UN estimating that 820 million people will experience hunger by 2030 if current trends continue. Energy shortages are becoming more frequent, with fossil fuels being increasingly relied upon, contributing to climate change and environmental degradation.\n",
      "\n",
      "Land degradation and deforestation are also being accelerated by population growth, leading to increased greenhouse gas emissions, loss of biodiversity, and decreased ecosystem resilience. The demand for minerals and other natural resources is also increasing, with the extraction and processing of these resources having significant environmental and social impacts.\n",
      "\n",
      "**The Consequences of Inaction**\n",
      "\n",
      "The consequences of not addressing the imbalance between population growth and Earth's resources will be severe. Increased poverty and inequality will become more widespread, as resources become scarcer and more expensive. Social unrest and conflict will become more common, as communities compete for access to limited resources. Environmental degradation and ecosystem collapse will continue to accelerate, leading to more frequent and severe natural disasters.\n",
      "\n",
      "Economic instability and market fluctuations will also become more prevalent, as the costs of resource extraction, production, and distribution increase. The consequences of inaction will be far-reaching, with the worst impacts being felt by the most vulnerable populations, including the poor, the elderly, and those living in areas already affected by environmental degradation.\n",
      "\n",
      "**Sustainable Solutions**\n",
      "\n",
      "There are many potential solutions to address the imbalance between population growth and Earth's resources. Family planning and reproductive health services are critical for slowing population growth and ensuring that the resources available can support the growing population. Sustainable agriculture and food production practices, such as permaculture and regenerative agriculture, can help increase food security while reducing the environmental impact of food production.\n",
      "\n",
      "Renewable energy sources, such as solar and wind power, can help reduce our reliance on fossil fuels and mitigate climate change. Conservation and sustainable management of natural resources, such as water and land, are essential for maintaining ecosystem health and resilience. Waste reduction and recycling can also help reduce the demand for new resources and decrease the environmental impact of waste disposal.\n",
      "\n",
      "**Conclusion**\n",
      "\n",
      "The growing global population is putting a strain on the Earth's resources, threatening the very foundation of our existence. It is essential that we understand the impact of population growth on these resources and work together to find sustainable solutions. Family planning, sustainable agriculture, renewable energy, conservation, and waste reduction are just a few of the many potential solutions that can help address this pressing issue.\n",
      "\n",
      "We must also recognize that individual actions, while important, are not enough. We need collective action from governments, organizations, and individuals to address this issue. The UN Sustainable Development Goals (SDGs) provide a framework for achieving sustainable development, and national and international conservation efforts are underway to protect natural resources.\n",
      "\n",
      "As individuals, we can make a difference by reducing our own resource consumption, advocating for sustainable policies, and supporting organizations working to address this issue. We owe it to ourselves, our children, and future generations to take action and ensure a sustainable future for all.\n",
      "\n",
      "**References**\n",
      "\n",
      "* World Wildlife Fund (WWF). (2020). Water and Human Rights.\n",
      "* Food and Agriculture Organization (FAO). (2017). The Future of Food and Agriculture.\n",
      "* International Energy Agency (IEA). (2020). World Energy Outlook.\n",
      "* United Nations (UN). (2020). Sustainable Development Goals.\n",
      "* United Nations (UN). (2019). Global Assessment Report on Biodiversity and Ecosystem Services.\n",
      "\n",
      "By working together, we can create a more sustainable future for all.\n"
     ]
    }
   ],
   "source": [
    "print(final_state['content'])"
   ]
  },
  {
   "cell_type": "code",
   "execution_count": null,
   "id": "88df933a",
   "metadata": {},
   "outputs": [],
   "source": []
  }
 ],
 "metadata": {
  "kernelspec": {
   "display_name": "myenv",
   "language": "python",
   "name": "python3"
  },
  "language_info": {
   "codemirror_mode": {
    "name": "ipython",
    "version": 3
   },
   "file_extension": ".py",
   "mimetype": "text/x-python",
   "name": "python",
   "nbconvert_exporter": "python",
   "pygments_lexer": "ipython3",
   "version": "3.12.6"
  }
 },
 "nbformat": 4,
 "nbformat_minor": 5
}
